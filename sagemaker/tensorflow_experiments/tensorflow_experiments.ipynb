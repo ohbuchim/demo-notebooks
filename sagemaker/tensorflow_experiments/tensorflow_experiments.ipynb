{
 "cells": [
  {
   "cell_type": "markdown",
   "metadata": {},
   "source": [
    "# TensorFlow2 で Amazon SageMaker Experiments を使う\n",
    "\n",
    "このノートブックでは、optimizer と batci_size を変えて複数の学習ジョブを実行し、それらのジョブを Amazon SageMaker Experiments で管理する方法を説明します。\n",
    "\n",
    "\n",
    "Amazon SageMaker Experiments SDK のドキュメントは [こちら](https://sagemaker-experiments.readthedocs.io/en/latest/index.html) から参照できます。"
   ]
  },
  {
   "cell_type": "markdown",
   "metadata": {},
   "source": [
    "# 環境のセットアップ\n",
    "\n",
    "SageMaker Experiments をインストールします。"
   ]
  },
  {
   "cell_type": "code",
   "execution_count": null,
   "metadata": {},
   "outputs": [],
   "source": [
    "import sys\n",
    "!{sys.executable} -m pip install sagemaker-experiments"
   ]
  },
  {
   "cell_type": "markdown",
   "metadata": {},
   "source": [
    "必要なライブラリをインポートします。"
   ]
  },
  {
   "cell_type": "code",
   "execution_count": null,
   "metadata": {},
   "outputs": [],
   "source": [
    "import os\n",
    "import sagemaker\n",
    "from sagemaker import get_execution_role\n",
    "from sagemaker.tensorflow import TensorFlow\n",
    "\n",
    "from sagemaker.analytics import ExperimentAnalytics\n",
    "from sagemaker.session import Session\n",
    "\n",
    "import boto3\n",
    "import time\n",
    "from smexperiments.experiment import Experiment\n",
    "from smexperiments.trial import Trial\n",
    "from smexperiments.trial_component import TrialComponent\n",
    "from smexperiments.tracker import Tracker\n",
    "\n",
    "sagemaker_session = sagemaker.Session()\n",
    "\n",
    "role = get_execution_role()\n",
    "region = sagemaker_session.boto_session.region_name"
   ]
  },
  {
   "cell_type": "markdown",
   "metadata": {},
   "source": [
    "## 学習データ\n",
    "\n",
    "MNIST データセットは S3 バケット ``sagemaker-sample-data-<REGION>`` の中の ``tensorflow/mnist`` に保存されています。以下の 4 つの``.npy`` ファイルがあります。\n",
    "* ``train_data.npy``\n",
    "* ``eval_data.npy``\n",
    "* ``train_labels.npy``\n",
    "* ``eval_labels.npy``"
   ]
  },
  {
   "cell_type": "code",
   "execution_count": null,
   "metadata": {},
   "outputs": [],
   "source": [
    "training_data_uri = 's3://sagemaker-sample-data-{}/tensorflow/mnist'.format(region)"
   ]
  },
  {
   "cell_type": "markdown",
   "metadata": {},
   "source": [
    "## Experiment のセットアップ\n",
    "\n",
    "ジョブを管理するための Experiment を作成します。"
   ]
  },
  {
   "cell_type": "code",
   "execution_count": null,
   "metadata": {},
   "outputs": [],
   "source": [
    "boto3_sess = boto3.Session()\n",
    "sm = boto3_sess.client('sagemaker')\n",
    "\n",
    "tf_experiment = Experiment.create(\n",
    "    experiment_name=f\"tensorflow-mnist-classification-{int(time.time())}\", \n",
    "    description=\"Classification of mnist hand-written digits\", \n",
    "    sagemaker_boto_client=sm)\n",
    "print(tf_experiment)"
   ]
  },
  {
   "cell_type": "markdown",
   "metadata": {},
   "source": [
    "# 学習ジョブの実行と Experiment への登録\n",
    "\n",
    "optimizer と batch_size の選択肢を list として用意し、組み合わせを変えながら学習ジョブを実行します。また、各学習ジョブを Experiment の Trial として登録します。"
   ]
  },
  {
   "cell_type": "code",
   "execution_count": null,
   "metadata": {
    "scrolled": false
   },
   "outputs": [],
   "source": [
    "optimizers = ['adam', 'sgd']\n",
    "batch_size_list = [16, 32]\n",
    "\n",
    "metric_definitions = [{'Name': 'loss',\n",
    "                       'Regex': 'loss: ([0-9\\\\.]+)'},\n",
    "                      {'Name': 'accuracy',\n",
    "                       'Regex': 'accuracy: ([0-9\\\\.]+)'},\n",
    "                     {'Name': 'test loss',\n",
    "                       'Regex': 'test loss: ([0-9\\\\.]+)'},\n",
    "                     {'Name': 'test acc',\n",
    "                       'Regex': 'test acc: ([0-9\\\\.]+)'}]\n",
    "\n",
    "for optimizer in optimizers:\n",
    "    for batch_size in batch_size_list:\n",
    "\n",
    "        hyperparameters = {'optimizer': optimizer, 'batch_size': batch_size}\n",
    "        \n",
    "        # Trial の作成\n",
    "        trial_name = f'tf-training-job-{optimizer}-{batch_size}-{int(time.time())}'\n",
    "        print(trial_name)\n",
    "        \n",
    "        tf_trial = Trial.create(\n",
    "            trial_name=trial_name, \n",
    "            experiment_name=tf_experiment.experiment_name,\n",
    "            sagemaker_boto_client=sm,\n",
    "        )\n",
    "\n",
    "        mnist_estimator = TensorFlow(entry_point='mnist.py',\n",
    "                                     role=role,\n",
    "                                     train_instance_count=1,\n",
    "                                     train_instance_type='ml.p3.2xlarge',\n",
    "                                     framework_version='2.1.0',\n",
    "                                     py_version='py3',\n",
    "                                      hyperparameters=hyperparameters,\n",
    "                                     metric_definitions=metric_definitions,\n",
    "                                     enable_sagemaker_metrics=True,\n",
    "                                     distributions={'parameter_server': {'enabled': True}})\n",
    "        \n",
    "        tf_training_job_name = \"tensorflow-training-job-{}\".format(int(time.time()))\n",
    "        \n",
    "        mnist_estimator.fit(\n",
    "                            training_data_uri,\n",
    "                            job_name=tf_training_job_name,\n",
    "                            experiment_config={\n",
    "                                 'TrialName': tf_trial.trial_name,\n",
    "                                 'TrialComponentDisplayName': 'Training',\n",
    "                            },\n",
    "                            wait=False)"
   ]
  },
  {
   "cell_type": "markdown",
   "metadata": {},
   "source": [
    " ## Experiments を可視化\n",
    " \n",
    " すべての Trial を accuracy でソートして表示します。"
   ]
  },
  {
   "cell_type": "code",
   "execution_count": null,
   "metadata": {},
   "outputs": [],
   "source": [
    "search_expression = {\n",
    "    \"Filters\":[\n",
    "        {\n",
    "            \"Name\": \"DisplayName\",\n",
    "            \"Operator\": \"Equals\",\n",
    "            \"Value\": \"Training\",\n",
    "        }\n",
    "    ],\n",
    "}\n",
    "\n",
    "trial_component_analytics = ExperimentAnalytics(\n",
    "    sagemaker_session=Session(boto3_sess, sm), \n",
    "    experiment_name=tf_experiment.experiment_name,\n",
    "    search_expression=search_expression,\n",
    "#     sort_by=\"metrics.accuracy.max\",\n",
    "    sort_by=\"metrics.test acc.max\",\n",
    "#     sort_by=\"CreationTime\",\n",
    "    sort_order=\"Descending\",\n",
    "#     metric_names=['accuracy'],\n",
    "#     metric_names=['test acc', 'test loss'],\n",
    "    parameter_names=['optimizer', 'batch_size']\n",
    ")\n",
    "\n",
    "analytic_table = trial_component_analytics.dataframe()"
   ]
  },
  {
   "cell_type": "code",
   "execution_count": null,
   "metadata": {},
   "outputs": [],
   "source": [
    "import pandas as pd\n",
    "pd.set_option('display.max_columns', None)\n",
    "analytic_table"
   ]
  },
  {
   "cell_type": "markdown",
   "metadata": {
    "collapsed": true
   },
   "source": [
    "# 最も結果が良かったモデルをデプロイ\n",
    "\n",
    "こちらは、すべての学習ジョブが完了するまで待ってから実行してください。 <br>作成したモデルの中で、最も accuracy が高かったモデルをデプロイします。"
   ]
  },
  {
   "cell_type": "code",
   "execution_count": null,
   "metadata": {},
   "outputs": [],
   "source": [
    "from sagemaker.tensorflow.serving import Model\n",
    "\n",
    "model = Model(model_data=analytic_table['SageMaker.ModelArtifact - Value'][0],\n",
    "                                            role=role,\n",
    "                                            entry_point='mnist.py',\n",
    "                                            framework_version='2.1.0'\n",
    "             )\n",
    "\n",
    "predictor = model.deploy(initial_instance_count=1, instance_type='ml.p2.xlarge')"
   ]
  },
  {
   "cell_type": "markdown",
   "metadata": {},
   "source": [
    "# 推論エンドポイントを使って推論\n",
    "\n",
    "学習に使用したデータを使って推論します。まずデータを S3 からダウンロードします。"
   ]
  },
  {
   "cell_type": "code",
   "execution_count": null,
   "metadata": {},
   "outputs": [],
   "source": [
    "import numpy as np\n",
    "\n",
    "!aws --region {region} s3 cp s3://sagemaker-sample-data-{region}/tensorflow/mnist/train_data.npy train_data.npy\n",
    "!aws --region {region} s3 cp s3://sagemaker-sample-data-{region}/tensorflow/mnist/train_labels.npy train_labels.npy\n",
    "\n",
    "train_data = np.load('train_data.npy')\n",
    "train_labels = np.load('train_labels.npy')"
   ]
  },
  {
   "cell_type": "markdown",
   "metadata": {},
   "source": [
    "ダウンロードしたデータを使って推論し。その結果を表示します。"
   ]
  },
  {
   "cell_type": "code",
   "execution_count": null,
   "metadata": {},
   "outputs": [],
   "source": [
    "predictions = predictor.predict(train_data[:50])\n",
    "for i in range(0, 50):\n",
    "    prediction = np.argmax(predictions['predictions'][i])\n",
    "    label = train_labels[i]\n",
    "    print('prediction is {}, label is {}, matched: {}'.format(prediction, label, prediction == label))"
   ]
  },
  {
   "cell_type": "markdown",
   "metadata": {},
   "source": [
    "# リソースの削除\n",
    "## エンドポイントの削除\n",
    "\n",
    "立ち上がりっぱなしだと料金がかかるので、不要になったエンドポイントを削除します。"
   ]
  },
  {
   "cell_type": "code",
   "execution_count": null,
   "metadata": {},
   "outputs": [],
   "source": [
    "sagemaker.Session().delete_endpoint(predictor.endpoint)"
   ]
  },
  {
   "cell_type": "markdown",
   "metadata": {},
   "source": [
    "## Experiment の削除\n",
    "\n",
    "このノートブックで作成した Experiment を削除します。"
   ]
  },
  {
   "cell_type": "code",
   "execution_count": null,
   "metadata": {},
   "outputs": [],
   "source": [
    "def cleanup_sme_sdk(experiment):\n",
    "    for trial_summary in experiment.list_trials():\n",
    "        trial = Trial.load(trial_name=trial_summary.trial_name)\n",
    "        for trial_component_summary in trial.list_trial_components():\n",
    "            tc = TrialComponent.load(\n",
    "                trial_component_name=trial_component_summary.trial_component_name)\n",
    "            trial.remove_trial_component(tc)\n",
    "            try:\n",
    "                # comment out to keep trial components\n",
    "                tc.delete()\n",
    "            except:\n",
    "                # tc is associated with another trial\n",
    "                continue\n",
    "            # to prevent throttling\n",
    "            time.sleep(.5)\n",
    "        trial.delete()\n",
    "        experiment_name = experiment.experiment_name\n",
    "    experiment.delete()\n",
    "    print(f\"\\nExperiment {experiment_name} deleted\")"
   ]
  },
  {
   "cell_type": "code",
   "execution_count": null,
   "metadata": {},
   "outputs": [],
   "source": [
    "experiment_to_cleanup = Experiment.load(\n",
    "    # Use experiment name not display name\n",
    "    experiment_name=tf_experiment.experiment_name)\n",
    "\n",
    "cleanup_sme_sdk(experiment_to_cleanup)"
   ]
  },
  {
   "cell_type": "markdown",
   "metadata": {},
   "source": [
    "# [option] Experiment 一覧を表示\n",
    "\n",
    "今までにどんな　Experiments を作成したかを知りたい場合、以下の方法で Experiments の一覧表示が可能です。"
   ]
  },
  {
   "cell_type": "code",
   "execution_count": null,
   "metadata": {},
   "outputs": [],
   "source": [
    "lst = Experiment.list()"
   ]
  },
  {
   "cell_type": "code",
   "execution_count": null,
   "metadata": {},
   "outputs": [],
   "source": [
    "for i, d in enumerate(lst):\n",
    "    print('experiment_name:', i, d.experiment_name)"
   ]
  },
  {
   "cell_type": "code",
   "execution_count": null,
   "metadata": {},
   "outputs": [],
   "source": []
  }
 ],
 "metadata": {
  "kernelspec": {
   "display_name": "conda_tensorflow_p36",
   "language": "python",
   "name": "conda_tensorflow_p36"
  },
  "language_info": {
   "codemirror_mode": {
    "name": "ipython",
    "version": 3
   },
   "file_extension": ".py",
   "mimetype": "text/x-python",
   "name": "python",
   "nbconvert_exporter": "python",
   "pygments_lexer": "ipython3",
   "version": "3.6.10"
  },
  "notice": "Copyright 2017 Amazon.com, Inc. or its affiliates. All Rights Reserved.  Licensed under the Apache License, Version 2.0 (the \"License\"). You may not use this file except in compliance with the License. A copy of the License is located at http://aws.amazon.com/apache2.0/ or in the \"license\" file accompanying this file. This file is distributed on an \"AS IS\" BASIS, WITHOUT WARRANTIES OR CONDITIONS OF ANY KIND, either express or implied. See the License for the specific language governing permissions and limitations under the License."
 },
 "nbformat": 4,
 "nbformat_minor": 2
}
