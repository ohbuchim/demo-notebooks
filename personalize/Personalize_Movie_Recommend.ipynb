{
 "cells": [
  {
   "cell_type": "markdown",
   "metadata": {},
   "source": [
    "## personalizeで使用するデータの作成\n",
    "このノートブックを初めて使用する際はこちらからスタートします。"
   ]
  },
  {
   "cell_type": "code",
   "execution_count": null,
   "metadata": {},
   "outputs": [],
   "source": [
    "! aws s3 cp s3://20190604-obc/personalize/ratings_mod.csv ./\n",
    "! aws s3 cp s3://20190604-obc/personalize/movies.csv ./"
   ]
  },
  {
   "cell_type": "markdown",
   "metadata": {},
   "source": [
    "MovieLensのデータを加工してpersonalizeで使いやすいようにします。"
   ]
  },
  {
   "cell_type": "code",
   "execution_count": null,
   "metadata": {},
   "outputs": [],
   "source": [
    "%matplotlib inline\n",
    "\n",
    "import pandas as pd\n",
    "import matplotlib\n",
    "import matplotlib.pyplot as plt\n",
    "\n",
    "rating_data_org = pd.read_csv('ratings_org.csv', delimiter=',')\n",
    "movie_data = pd.read_csv('movies.csv', delimiter=',')\n",
    "\n",
    "rating_like = rating_data_org[rating_data_org.rating>=3].drop('rating', axis=1).rename(columns={'userId': 'USER_ID', 'movieId': 'ITEM_ID', 'timestamp': 'TIMESTAMP'})\n",
    "rating_like.to_csv('ratings_mod.csv',  index=False)\n",
    "\n",
    "rating_like.head()"
   ]
  },
  {
   "cell_type": "markdown",
   "metadata": {},
   "source": [
    "## ジャンルのヒストグラム作成用関数の定義"
   ]
  },
  {
   "cell_type": "code",
   "execution_count": 17,
   "metadata": {},
   "outputs": [],
   "source": [
    "def make_histgram(data, key):\n",
    "\n",
    "    genre_list = []\n",
    "    for g in data:\n",
    "        gs = g.split('|')\n",
    "        for s in gs:\n",
    "            genre_list.append(s)\n",
    "\n",
    "    genre_array = np.array(genre_list)\n",
    "\n",
    "    counter = Counter(genre_array)\n",
    "    hist_list = []\n",
    "    for word, cnt in counter.most_common():\n",
    "        hist_list.append([word, cnt])\n",
    "\n",
    "    hist_ = pd.DataFrame(hist_list, columns=[key, 'COUNT'])\n",
    "    hist = hist_.set_index(key)\n",
    "    \n",
    "    return hist"
   ]
  },
  {
   "cell_type": "markdown",
   "metadata": {},
   "source": [
    "## データの内容の確認"
   ]
  },
  {
   "cell_type": "markdown",
   "metadata": {},
   "source": [
    "### 全データのジャンルの分布\n",
    "まずは登録されている映画全体のジャンルの傾向を見てみましょう。トップ3はドラマ，コメディ，スリラーとなっています。"
   ]
  },
  {
   "cell_type": "code",
   "execution_count": 18,
   "metadata": {},
   "outputs": [
    {
     "data": {
      "image/png": "[encoded data removed]",
      "text/plain": [
       "<Figure size 432x288 with 1 Axes>"
      ]
     },
     "metadata": {
      "needs_background": "light"
     },
     "output_type": "display_data"
    }
   ],
   "source": [
    "%matplotlib inline\n",
    "\n",
    "import matplotlib\n",
    "import matplotlib.pyplot as plt\n",
    "import pandas as pd\n",
    "import numpy as np\n",
    "from collections import Counter\n",
    "\n",
    "movie_data = pd.read_csv('movies.csv', delimiter=',')\n",
    "\n",
    "genre_whole = movie_data['GENRE']\n",
    "hist_whole = make_histgram(genre_whole, 'GENRE')\n",
    "hist_whole.plot(kind=\"bar\")\n",
    "plt.show()"
   ]
  },
  {
   "cell_type": "markdown",
   "metadata": {},
   "source": [
    "### user_id=100の好きなジャンル\n",
    "このサンプルではuser_id=10の人へのリコメンドをしてみましょう。<br>\n",
    "user_id=100の人が見た映画のジャンルをヒストグラムで表示します。この方はどうやらロマンス，コメディ，ドラマが好きなようです。"
   ]
  },
  {
   "cell_type": "code",
   "execution_count": 77,
   "metadata": {},
   "outputs": [
    {
     "data": {
      "image/png": "[encoded data removed]",
      "text/plain": [
       "<Figure size 432x288 with 1 Axes>"
      ]
     },
     "metadata": {
      "needs_background": "light"
     },
     "output_type": "display_data"
    },
    {
     "data": {
      "text/html": [
       "<div>\n",
       "<style scoped>\n",
       "    .dataframe tbody tr th:only-of-type {\n",
       "        vertical-align: middle;\n",
       "    }\n",
       "\n",
       "    .dataframe tbody tr th {\n",
       "        vertical-align: top;\n",
       "    }\n",
       "\n",
       "    .dataframe thead th {\n",
       "        text-align: right;\n",
       "    }\n",
       "</style>\n",
       "<table border=\"1\" class=\"dataframe\">\n",
       "  <thead>\n",
       "    <tr style=\"text-align: right;\">\n",
       "      <th></th>\n",
       "      <th>USER_ID</th>\n",
       "      <th>ITEM_ID</th>\n",
       "      <th>TIMESTAMP</th>\n",
       "      <th>TITLE</th>\n",
       "      <th>GENRE</th>\n",
       "    </tr>\n",
       "  </thead>\n",
       "  <tbody>\n",
       "    <tr>\n",
       "      <th>143</th>\n",
       "      <td>100</td>\n",
       "      <td>6785</td>\n",
       "      <td>1100184338</td>\n",
       "      <td>Seven Brides for Seven Brothers (1954)</td>\n",
       "      <td>Comedy|Musical|Romance|Western</td>\n",
       "    </tr>\n",
       "    <tr>\n",
       "      <th>144</th>\n",
       "      <td>100</td>\n",
       "      <td>6873</td>\n",
       "      <td>1100186781</td>\n",
       "      <td>Intolerable Cruelty (2003)</td>\n",
       "      <td>Comedy|Romance</td>\n",
       "    </tr>\n",
       "    <tr>\n",
       "      <th>145</th>\n",
       "      <td>100</td>\n",
       "      <td>7149</td>\n",
       "      <td>1100184159</td>\n",
       "      <td>Something's Gotta Give (2003)</td>\n",
       "      <td>Comedy|Drama|Romance</td>\n",
       "    </tr>\n",
       "    <tr>\n",
       "      <th>146</th>\n",
       "      <td>100</td>\n",
       "      <td>8529</td>\n",
       "      <td>1100184289</td>\n",
       "      <td>Terminal, The (2004)</td>\n",
       "      <td>Comedy|Drama|Romance</td>\n",
       "    </tr>\n",
       "    <tr>\n",
       "      <th>147</th>\n",
       "      <td>100</td>\n",
       "      <td>8636</td>\n",
       "      <td>1100186770</td>\n",
       "      <td>Spider-Man 2 (2004)</td>\n",
       "      <td>Action|Adventure|Sci-Fi|IMAX</td>\n",
       "    </tr>\n",
       "  </tbody>\n",
       "</table>\n",
       "</div>"
      ],
      "text/plain": [
       "     USER_ID  ITEM_ID   TIMESTAMP                                   TITLE  \\\n",
       "143      100     6785  1100184338  Seven Brides for Seven Brothers (1954)   \n",
       "144      100     6873  1100186781              Intolerable Cruelty (2003)   \n",
       "145      100     7149  1100184159           Something's Gotta Give (2003)   \n",
       "146      100     8529  1100184289                    Terminal, The (2004)   \n",
       "147      100     8636  1100186770                     Spider-Man 2 (2004)   \n",
       "\n",
       "                              GENRE  \n",
       "143  Comedy|Musical|Romance|Western  \n",
       "144                  Comedy|Romance  \n",
       "145            Comedy|Drama|Romance  \n",
       "146            Comedy|Drama|Romance  \n",
       "147    Action|Adventure|Sci-Fi|IMAX  "
      ]
     },
     "execution_count": 77,
     "metadata": {},
     "output_type": "execute_result"
    }
   ],
   "source": [
    "user_id = 100\n",
    "\n",
    "rating_data = pd.read_csv('ratings.csv', delimiter=',')\n",
    "rating_data_user = rating_data[rating_data.USER_ID==user_id]\n",
    "merge_data = pd.merge(rating_data_user, movie_data, on='ITEM_ID')\n",
    "genre_user = merge_data[merge_data.USER_ID==user_id]['GENRE']\n",
    "\n",
    "hist = make_histgram(genre_user, 'GENRE')\n",
    "hist.plot(kind=\"bar\")\n",
    "plt.show()\n",
    "\n",
    "(merge_data.tail())"
   ]
  },
  {
   "cell_type": "markdown",
   "metadata": {},
   "source": [
    "## データセットグループの作成"
   ]
  },
  {
   "cell_type": "code",
   "execution_count": 1,
   "metadata": {},
   "outputs": [
    {
     "name": "stdout",
     "output_type": "stream",
     "text": [
      "Name: movie-recommend\n",
      "ARN: arn:aws:personalize:us-east-1:420964472730:dataset-group/movie-recommend\n",
      "Status: CREATE PENDING\n"
     ]
    }
   ],
   "source": [
    "import boto3\n",
    "\n",
    "personalize = boto3.client('personalize')\n",
    "\n",
    "response = personalize.create_dataset_group(name = 'movie-recommend')\n",
    "dsg_arn = response['datasetGroupArn']\n",
    "\n",
    "description = personalize.describe_dataset_group(datasetGroupArn = dsg_arn)['datasetGroup']\n",
    "\n",
    "print('Name: ' + description['name'])\n",
    "print('ARN: ' + description['datasetGroupArn'])\n",
    "print('Status: ' + description['status'])"
   ]
  },
  {
   "cell_type": "code",
   "execution_count": 4,
   "metadata": {},
   "outputs": [
    {
     "data": {
      "text/plain": [
       "{'schemas': [{'name': 'test-event-schema',\n",
       "   'schemaArn': 'arn:aws:personalize:us-east-1:420964472730:schema/test-event-schema',\n",
       "   'creationDateTime': datetime.datetime(2019, 6, 30, 15, 7, 9, 734000, tzinfo=tzlocal()),\n",
       "   'lastUpdatedDateTime': datetime.datetime(2019, 6, 30, 15, 7, 9, 734000, tzinfo=tzlocal())},\n",
       "  {'name': 'test-schema',\n",
       "   'schemaArn': 'arn:aws:personalize:us-east-1:420964472730:schema/test-schema',\n",
       "   'creationDateTime': datetime.datetime(2019, 6, 29, 17, 50, 2, 772000, tzinfo=tzlocal()),\n",
       "   'lastUpdatedDateTime': datetime.datetime(2019, 6, 29, 17, 50, 2, 772000, tzinfo=tzlocal())},\n",
       "  {'name': 'test-schema-item',\n",
       "   'schemaArn': 'arn:aws:personalize:us-east-1:420964472730:schema/test-schema-item',\n",
       "   'creationDateTime': datetime.datetime(2019, 6, 29, 18, 4, 39, 716000, tzinfo=tzlocal()),\n",
       "   'lastUpdatedDateTime': datetime.datetime(2019, 6, 29, 18, 4, 39, 716000, tzinfo=tzlocal())},\n",
       "  {'name': 'test-schema-user',\n",
       "   'schemaArn': 'arn:aws:personalize:us-east-1:420964472730:schema/test-schema-user',\n",
       "   'creationDateTime': datetime.datetime(2019, 6, 29, 18, 7, 59, 454000, tzinfo=tzlocal()),\n",
       "   'lastUpdatedDateTime': datetime.datetime(2019, 6, 29, 18, 7, 59, 454000, tzinfo=tzlocal())}],\n",
       " 'ResponseMetadata': {'RequestId': '27c4917a-61ab-498f-8c15-0adf31e7e769',\n",
       "  'HTTPStatusCode': 200,\n",
       "  'HTTPHeaders': {'content-type': 'application/x-amz-json-1.1',\n",
       "   'date': 'Thu, 04 Jul 2019 02:16:50 GMT',\n",
       "   'x-amzn-requestid': '27c4917a-61ab-498f-8c15-0adf31e7e769',\n",
       "   'content-length': '741',\n",
       "   'connection': 'keep-alive'},\n",
       "  'RetryAttempts': 0}}"
      ]
     },
     "execution_count": 4,
     "metadata": {},
     "output_type": "execute_result"
    }
   ],
   "source": [
    "personalize.list_schemas()"
   ]
  },
  {
   "cell_type": "markdown",
   "metadata": {},
   "source": [
    "## データセットの作成"
   ]
  },
  {
   "cell_type": "code",
   "execution_count": 5,
   "metadata": {},
   "outputs": [
    {
     "name": "stdout",
     "output_type": "stream",
     "text": [
      "Dataset Arn: arn:aws:personalize:us-east-1:420964472730:dataset/movie-recommend/INTERACTIONS\n"
     ]
    }
   ],
   "source": [
    "import boto3\n",
    "\n",
    "personalize = boto3.client('personalize')\n",
    "\n",
    "response = personalize.create_dataset(\n",
    "    name = 'movie-recommend',\n",
    "    schemaArn = 'arn:aws:personalize:us-east-1:420964472730:schema/test-schema',\n",
    "    datasetGroupArn = 'arn:aws:personalize:us-east-1:420964472730:dataset-group/movie-recommend',\n",
    "    datasetType = 'Interactions')\n",
    "\n",
    "print ('Dataset Arn: ' + response['datasetArn'])"
   ]
  },
  {
   "cell_type": "markdown",
   "metadata": {},
   "source": [
    "## データセットのインポート"
   ]
  },
  {
   "cell_type": "code",
   "execution_count": 7,
   "metadata": {},
   "outputs": [
    {
     "name": "stdout",
     "output_type": "stream",
     "text": [
      "Dataset Import Job arn: arn:aws:personalize:us-east-1:420964472730:dataset-import-job/import-job1\n",
      "Name: import-job1\n",
      "ARN: arn:aws:personalize:us-east-1:420964472730:dataset-import-job/import-job1\n",
      "Status: CREATE PENDING\n"
     ]
    }
   ],
   "source": [
    "import boto3\n",
    "\n",
    "personalize = boto3.client('personalize')\n",
    "\n",
    "response = personalize.create_dataset_import_job(\n",
    "    jobName = 'import-job1',\n",
    "    datasetArn = 'arn:aws:personalize:us-east-1:420964472730:dataset/movie-recommend/INTERACTIONS',\n",
    "    dataSource = {'dataLocation':'s3://20190604-obc/personalize/pre/ratings.csv'},\n",
    "    roleArn = 'arn:aws:iam::420964472730:role/service-role/AmazonPersonalize-ExecutionRole-1561798696304')\n",
    "\n",
    "dsij_arn = response['datasetImportJobArn']\n",
    "\n",
    "print ('Dataset Import Job arn: ' + dsij_arn)\n",
    "\n",
    "description = personalize.describe_dataset_import_job(\n",
    "    datasetImportJobArn = dsij_arn)['datasetImportJob']\n",
    "\n",
    "print('Name: ' + description['jobName'])\n",
    "print('ARN: ' + description['datasetImportJobArn'])\n",
    "print('Status: ' + description['status'])"
   ]
  },
  {
   "cell_type": "markdown",
   "metadata": {},
   "source": [
    "## ソリューションの作成"
   ]
  },
  {
   "cell_type": "code",
   "execution_count": 10,
   "metadata": {},
   "outputs": [
    {
     "name": "stdout",
     "output_type": "stream",
     "text": [
      "Creating solution\n",
      "Solution ARN: arn:aws:personalize:us-east-1:420964472730:solution/solution-movie-recommend\n",
      "Solution status: ACTIVE\n",
      "Creating solution version\n",
      "Solution version ARN: arn:aws:personalize:us-east-1:420964472730:solution/solution-movie-recommend/b6e32704\n",
      "Solution version status: CREATE PENDING\n"
     ]
    }
   ],
   "source": [
    "import boto3\n",
    "\n",
    "personalize = boto3.client('personalize')\n",
    "\n",
    "print ('Creating solution')\n",
    "response = personalize.create_solution(\n",
    "    name = \"solution-movie-recommend\",\n",
    "    datasetGroupArn = \"arn:aws:personalize:us-east-1:420964472730:dataset-group/movie-recommend\",\n",
    "    performAutoML = True)\n",
    "\n",
    "# Get the solution ARN.\n",
    "solution_arn = response['solutionArn']\n",
    "print('Solution ARN: ' + solution_arn)\n",
    "\n",
    "# Use the solution ARN to get the solution status.\n",
    "solution_description = personalize.describe_solution(solutionArn = solution_arn)['solution']\n",
    "print('Solution status: ' + solution_description['status'])\n",
    "\n",
    "# Use the solution ARN to create a solution version.\n",
    "print ('Creating solution version')\n",
    "response = personalize.create_solution_version(solutionArn = solution_arn)\n",
    "solution_version_arn = response['solutionVersionArn']\n",
    "print('Solution version ARN: ' + solution_version_arn)\n",
    "\n",
    "# Use the solution version ARN to get the solution version status.\n",
    "solution_version_description = personalize.describe_solution_version(\n",
    "    solutionVersionArn = solution_version_arn)['solutionVersion']\n",
    "print('Solution version status: ' + solution_version_description['status'])"
   ]
  },
  {
   "cell_type": "markdown",
   "metadata": {},
   "source": [
    "## キャンペーンの作成"
   ]
  },
  {
   "cell_type": "code",
   "execution_count": 12,
   "metadata": {},
   "outputs": [
    {
     "name": "stdout",
     "output_type": "stream",
     "text": [
      "Name: campaign-movie2\n",
      "ARN: arn:aws:personalize:us-east-1:420964472730:campaign/campaign-movie2\n",
      "Status: CREATE PENDING\n"
     ]
    }
   ],
   "source": [
    "import boto3\n",
    "\n",
    "personalize = boto3.client('personalize')\n",
    "\n",
    "response = personalize.create_campaign(\n",
    "    name = 'campaign-movie2',\n",
    "    solutionVersionArn = 'arn:aws:personalize:us-east-1:420964472730:solution/solution-movie-recommend/b6e32704',\n",
    "    minProvisionedTPS = 10)\n",
    "\n",
    "arn = response['campaignArn']\n",
    "\n",
    "description = personalize.describe_campaign(campaignArn = arn)['campaign']\n",
    "print('Name: ' + description['name'])\n",
    "print('ARN: ' + description['campaignArn'])\n",
    "print('Status: ' + description['status'])"
   ]
  },
  {
   "cell_type": "code",
   "execution_count": null,
   "metadata": {},
   "outputs": [],
   "source": []
  },
  {
   "cell_type": "markdown",
   "metadata": {},
   "source": [
    "## APIを使ってリコメンド実行"
   ]
  },
  {
   "cell_type": "code",
   "execution_count": 84,
   "metadata": {},
   "outputs": [],
   "source": [
    "import boto3\n",
    "\n",
    "personalizeRt = boto3.client('personalize-runtime')\n",
    "\n",
    "response = personalizeRt.get_recommendations(\n",
    "    campaignArn = \"arn:aws:personalize:us-east-1:420964472730:campaign/campaign-movie2\",\n",
    "    userId = str(user_id))\n",
    "\n"
   ]
  },
  {
   "cell_type": "markdown",
   "metadata": {},
   "source": [
    "おすすめされた映画のトップ5つのジャンルトップを見てみると，コメディ，ドラマ，ロマンスとなっています。<br>\n",
    "はじめに確認した通りuser_id=100の方はロマンス，コメディ，ドラマが好きな方だったので，嗜好に合ったリコメンドができていると言えます。"
   ]
  },
  {
   "cell_type": "code",
   "execution_count": 85,
   "metadata": {},
   "outputs": [
    {
     "data": {
      "image/png": "[encoded data removed]",
      "text/plain": [
       "<Figure size 432x288 with 1 Axes>"
      ]
     },
     "metadata": {
      "needs_background": "light"
     },
     "output_type": "display_data"
    },
    {
     "data": {
      "text/html": [
       "<div>\n",
       "<style scoped>\n",
       "    .dataframe tbody tr th:only-of-type {\n",
       "        vertical-align: middle;\n",
       "    }\n",
       "\n",
       "    .dataframe tbody tr th {\n",
       "        vertical-align: top;\n",
       "    }\n",
       "\n",
       "    .dataframe thead th {\n",
       "        text-align: right;\n",
       "    }\n",
       "</style>\n",
       "<table border=\"1\" class=\"dataframe\">\n",
       "  <thead>\n",
       "    <tr style=\"text-align: right;\">\n",
       "      <th></th>\n",
       "      <th>ITEM_ID</th>\n",
       "      <th>TITLE</th>\n",
       "      <th>GENRE</th>\n",
       "    </tr>\n",
       "    <tr>\n",
       "      <th>RANK</th>\n",
       "      <th></th>\n",
       "      <th></th>\n",
       "      <th></th>\n",
       "    </tr>\n",
       "  </thead>\n",
       "  <tbody>\n",
       "    <tr>\n",
       "      <th>1</th>\n",
       "      <td>357</td>\n",
       "      <td>Four Weddings and a Funeral (1994)</td>\n",
       "      <td>Comedy|Romance</td>\n",
       "    </tr>\n",
       "    <tr>\n",
       "      <th>2</th>\n",
       "      <td>3108</td>\n",
       "      <td>Fisher King, The (1991)</td>\n",
       "      <td>Comedy|Drama|Fantasy|Romance</td>\n",
       "    </tr>\n",
       "    <tr>\n",
       "      <th>3</th>\n",
       "      <td>1544</td>\n",
       "      <td>Lost World: Jurassic Park, The (1997)</td>\n",
       "      <td>Action|Adventure|Sci-Fi|Thriller</td>\n",
       "    </tr>\n",
       "    <tr>\n",
       "      <th>4</th>\n",
       "      <td>21</td>\n",
       "      <td>Get Shorty (1995)</td>\n",
       "      <td>Comedy|Crime|Thriller</td>\n",
       "    </tr>\n",
       "    <tr>\n",
       "      <th>5</th>\n",
       "      <td>5445</td>\n",
       "      <td>Minority Report (2002)</td>\n",
       "      <td>Action|Crime|Mystery|Sci-Fi|Thriller</td>\n",
       "    </tr>\n",
       "  </tbody>\n",
       "</table>\n",
       "</div>"
      ],
      "text/plain": [
       "      ITEM_ID                                  TITLE  \\\n",
       "RANK                                                   \n",
       "1         357     Four Weddings and a Funeral (1994)   \n",
       "2        3108                Fisher King, The (1991)   \n",
       "3        1544  Lost World: Jurassic Park, The (1997)   \n",
       "4          21                      Get Shorty (1995)   \n",
       "5        5445                 Minority Report (2002)   \n",
       "\n",
       "                                     GENRE  \n",
       "RANK                                        \n",
       "1                           Comedy|Romance  \n",
       "2             Comedy|Drama|Fantasy|Romance  \n",
       "3         Action|Adventure|Sci-Fi|Thriller  \n",
       "4                    Comedy|Crime|Thriller  \n",
       "5     Action|Crime|Mystery|Sci-Fi|Thriller  "
      ]
     },
     "execution_count": 85,
     "metadata": {},
     "output_type": "execute_result"
    }
   ],
   "source": [
    "item_list = [int(i['itemId']) for i in response['itemList']]\n",
    "\n",
    "results = []\n",
    "for i,d in enumerate(item_list):\n",
    "    results.append([i+1, *movie_data[movie_data.ITEM_ID==d].values[0]])\n",
    "\n",
    "res_df = pd.DataFrame(results, columns=['RANK', 'ITEM_ID', 'TITLE', 'GENRE']).set_index('RANK')\n",
    "\n",
    "hist_df = res_df[:6]\n",
    "hist_pred = make_histgram(hist_df['GENRE'], 'GENRE')\n",
    "hist_pred.plot(kind=\"bar\")\n",
    "plt.show()\n",
    "\n",
    "res_df.head()"
   ]
  },
  {
   "cell_type": "code",
   "execution_count": null,
   "metadata": {},
   "outputs": [],
   "source": []
  }
 ],
 "metadata": {
  "kernelspec": {
   "display_name": "Python 3",
   "language": "python",
   "name": "python3"
  },
  "language_info": {
   "codemirror_mode": {
    "name": "ipython",
    "version": 3
   },
   "file_extension": ".py",
   "mimetype": "text/x-python",
   "name": "python",
   "nbconvert_exporter": "python",
   "pygments_lexer": "ipython3",
   "version": "3.7.3"
  }
 },
 "nbformat": 4,
 "nbformat_minor": 2
}
